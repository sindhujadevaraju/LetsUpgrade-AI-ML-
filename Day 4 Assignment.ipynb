{
 "cells": [
  {
   "cell_type": "markdown",
   "metadata": {},
   "source": [
    "### 1. Problem Statement \n",
    "###### Research on whether addition, subtraction, multiplication, division, floor division, and modulo operations be performed on complex numbers. Based on your study, implement a Python program to demonstratethese operations."
   ]
  },
  {
   "cell_type": "code",
   "execution_count": 7,
   "metadata": {},
   "outputs": [
    {
     "name": "stdout",
     "output_type": "stream",
     "text": [
      "Enter the First Complex Number: 5+7j\n",
      "Enter the Second Complex Number: 2-4j\n",
      "\n",
      "Operations on two Complex Numbers\n",
      "Addition :  (7+3j)\n",
      "Subraction :  (3+11j)\n",
      "Multiplication :  (38-6j)\n",
      "Division :  (-0.9+1.7j)\n",
      "Floor Division :  1.0\n",
      "Modulus :  4.130189312043047\n"
     ]
    }
   ],
   "source": [
    "num1 = complex(input(\"Enter the First Complex Number: \"))\n",
    "num2 = complex(input(\"Enter the Second Complex Number: \"))\n",
    "\n",
    "print(\"\\nOperations on two Complex Numbers\")\n",
    "print(\"Addition : \",num1+num2)\n",
    "print(\"Subraction : \",num1-num2)\n",
    "print(\"Multiplication : \",num1*num2)\n",
    "print(\"Division : \",num1/num2)\n",
    "print(\"Floor Division : \",abs(num1)//abs(num2))\n",
    "print(\"Modulus : \",abs(num1) % abs(num2))\n"
   ]
  },
  {
   "cell_type": "markdown",
   "metadata": {},
   "source": [
    "### 2. Problem Statement \n",
    "###### Research on range() functions and its parameters. Create a markdown cell and write in your own words (no copy-paste from google please) what you understand about it. Implement a small program of your choice on the same."
   ]
  },
  {
   "cell_type": "code",
   "execution_count": 8,
   "metadata": {},
   "outputs": [
    {
     "name": "stdout",
     "output_type": "stream",
     "text": [
      "The prime numbers between 1 and 200 are: \n",
      "2 3 5 7 11 13 17 19 23 29 31 37 41 43 47 53 59 61 67 71 73 79 83 89 97 101 103 107 109 113 127 131 137 139 149 151 157 163 167 173 179 181 191 193 197 199 "
     ]
    }
   ],
   "source": [
    "print(\"The prime numbers between 1 and 200 are: \")\n",
    "for i in range(1,200):\n",
    "    if i>1:   \n",
    "        for j in range(2,i):\n",
    "            if(i % j)== 0:\n",
    "                break\n",
    "        else:\n",
    "            print(i, end=\" \")"
   ]
  },
  {
   "cell_type": "markdown",
   "metadata": {},
   "source": [
    "### 3. Problem Statement \n",
    "###### Consider two numbers. Perform their subtraction and if the result of subtraction is greater than 25, print their multiplication result else print their division result"
   ]
  },
  {
   "cell_type": "code",
   "execution_count": 17,
   "metadata": {},
   "outputs": [
    {
     "name": "stdout",
     "output_type": "stream",
     "text": [
      "Enter First Number above 25:78\n",
      "Enter Second Number above 25:34\n",
      "The difference between 78 and 34 is:  44\n",
      "\n",
      "Difference is greater than 25, hence Multiply : 2652\n"
     ]
    }
   ],
   "source": [
    "num1 = int(input(\"Enter First Number above 25:\"))\n",
    "num2 = int(input(\"Enter Second Number above 25:\"))\n",
    "\n",
    "result = num1-num2\n",
    "print(f\"The difference between {num1} and {num2} is: \", result)\n",
    "\n",
    "if result > 25:\n",
    "    print(\"\\nDifference is greater than 25, hence Multiply :\",num1*num2)\n",
    "else:\n",
    "    print(\"\\Difference is lesser than 25, hence Divide:\",num1/num2)"
   ]
  },
  {
   "cell_type": "markdown",
   "metadata": {},
   "source": [
    "### 4. Problem Statement \n",
    "###### Consider a list of 10 elements of integer values. If the number in the list is divisible by 2, print the result as \"square of that number minus 2\"."
   ]
  },
  {
   "cell_type": "code",
   "execution_count": 35,
   "metadata": {},
   "outputs": [
    {
     "name": "stdout",
     "output_type": "stream",
     "text": [
      "Square of 10 minus 2 is : -1\n",
      "Square of 14 minus 2 is : 2\n",
      "Square of 2 minus 2 is : 23\n",
      "Square of 10 minus 2 is : 34\n",
      "Square of 34 minus 2 is : 47\n"
     ]
    }
   ],
   "source": [
    "lst = [23,10,14,17,19,2,10,34,11,9]\n",
    "for i in range(len(lst)):\n",
    "    if (lst[i]%2 == 0):\n",
    "        result = i**2-2 \n",
    "        print(f\"Square of {lst[i]} minus 2 is :\",result)    "
   ]
  },
  {
   "cell_type": "markdown",
   "metadata": {},
   "source": [
    "### 5. Problem Statement \n",
    "###### Consider a list of 10 elements. Print all the elements in the list which are greater than 7 when that number is divided 2."
   ]
  },
  {
   "cell_type": "code",
   "execution_count": 43,
   "metadata": {},
   "outputs": [
    {
     "name": "stdout",
     "output_type": "stream",
     "text": [
      "A listt with 10 elements : [55, 2, 46, 51, 9, 8, 26, 14, 11, 6]\n",
      "\n",
      "List of elements when divided by 2 their quotients are greater than 7\n",
      "55 46 51 26 "
     ]
    }
   ],
   "source": [
    "lst = [55,2,46,51,9,8,26,14,11,6]\n",
    "print(\"A listt with 10 elements :\", lst)\n",
    "\n",
    "print(\"\\nList of elements when divided by 2 their quotients are greater than 7\")\n",
    "for i in range(len(lst)):\n",
    "    if (lst[i]/2 > 7):\n",
    "        print(lst[i], end=\" \")"
   ]
  }
 ],
 "metadata": {
  "kernelspec": {
   "display_name": "Python 3",
   "language": "python",
   "name": "python3"
  },
  "language_info": {
   "codemirror_mode": {
    "name": "ipython",
    "version": 3
   },
   "file_extension": ".py",
   "mimetype": "text/x-python",
   "name": "python",
   "nbconvert_exporter": "python",
   "pygments_lexer": "ipython3",
   "version": "3.7.4"
  }
 },
 "nbformat": 4,
 "nbformat_minor": 2
}
