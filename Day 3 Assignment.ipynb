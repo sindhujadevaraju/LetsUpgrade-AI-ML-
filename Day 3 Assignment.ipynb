{
 "cells": [
  {
   "cell_type": "markdown",
   "metadata": {},
   "source": [
    "### 1. Problem Statement \n",
    "###### Write a program to subtract two complex numbers in Python"
   ]
  },
  {
   "cell_type": "code",
   "execution_count": 9,
   "metadata": {},
   "outputs": [
    {
     "name": "stdout",
     "output_type": "stream",
     "text": [
      "Enter 1st Complex Number: 1+2j\n",
      "Enter 2nd Complex Number: 2+3j\n",
      "Difference of two complex numbers: (-1-1j)\n"
     ]
    }
   ],
   "source": [
    "num1 = complex(input(\"Enter 1st Complex Number: \"))\n",
    "num2 = complex(input(\"Enter 2nd Complex Number: \"))\n",
    "num3 = num1-num2\n",
    "print(\"Difference of two complex numbers:\", num3)"
   ]
  },
  {
   "cell_type": "markdown",
   "metadata": {},
   "source": [
    "### 2. Problem Statement \n",
    "###### Write a program to find the fourth root of a number"
   ]
  },
  {
   "cell_type": "code",
   "execution_count": 7,
   "metadata": {},
   "outputs": [
    {
     "name": "stdout",
     "output_type": "stream",
     "text": [
      "Enter the number for fourth root:12\n",
      "Fourth root of 12 is : 1.8612097182041991\n"
     ]
    }
   ],
   "source": [
    "num1 = int(input(\"Enter the number for fourth root:\"))\n",
    "print(\"Fourth root of\",num1,\"is :\",num1**(1/4))"
   ]
  },
  {
   "cell_type": "markdown",
   "metadata": {},
   "source": [
    "### 3. Problem Statement\n",
    "###### Write a program to swap two numbers in Python with the help of a temporary variable"
   ]
  },
  {
   "cell_type": "code",
   "execution_count": 13,
   "metadata": {},
   "outputs": [
    {
     "name": "stdout",
     "output_type": "stream",
     "text": [
      "Enter the First Number:1\n",
      "Enter the Second Number:2\n",
      "\n",
      "Before Swapping \n",
      "First Number =  1 \n",
      "Second Number =  2\n",
      "\n",
      "After Swapping \n",
      "First Number =  2 \n",
      "Second Number =  1\n"
     ]
    }
   ],
   "source": [
    "num1 = int(input(\"Enter the First Number:\"))\n",
    "num2 = int(input(\"Enter the Second Number:\"))\n",
    "\n",
    "print(\"\\nBefore Swapping \\nFirst Number = \",num1,\"\\nSecond Number = \",num2)\n",
    "\n",
    "temp = num1\n",
    "num1 = num2\n",
    "num2 = temp\n",
    "\n",
    "print(\"\\nAfter Swapping \\nFirst Number = \",num1,\"\\nSecond Number = \",num2)"
   ]
  },
  {
   "cell_type": "markdown",
   "metadata": {},
   "source": [
    "### 4. Problem Statement\n",
    "###### Write a program to swap two numbers in Python without using a temporary variable"
   ]
  },
  {
   "cell_type": "code",
   "execution_count": 14,
   "metadata": {},
   "outputs": [
    {
     "name": "stdout",
     "output_type": "stream",
     "text": [
      "Enter the First Number:1\n",
      "Enter the Second Number:2\n",
      "\n",
      "Before Swapping \n",
      "First Number =  1 \n",
      "Second Number =  2\n",
      "\n",
      "After Swapping \n",
      "First Number =  2 \n",
      "Second Number =  1\n"
     ]
    }
   ],
   "source": [
    "num1 = int(input(\"Enter the First Number:\"))\n",
    "num2 = int(input(\"Enter the Second Number:\"))\n",
    "\n",
    "print(\"\\nBefore Swapping \\nFirst Number = \",num1,\"\\nSecond Number = \",num2)\n",
    "\n",
    "num1 = num1^num2\n",
    "num2 = num1^num2\n",
    "num1 = num1^num2\n",
    "\n",
    "print(\"\\nAfter Swapping \\nFirst Number = \",num1,\"\\nSecond Number = \",num2)"
   ]
  },
  {
   "cell_type": "markdown",
   "metadata": {},
   "source": [
    "### 5. Problem Statement\n",
    "###### Write a program to convert fahrenheit to kelvin and celsius both "
   ]
  },
  {
   "cell_type": "code",
   "execution_count": 18,
   "metadata": {},
   "outputs": [
    {
     "name": "stdout",
     "output_type": "stream",
     "text": [
      "Enter Fahrenheit:98.6\n",
      "Celsius value 37.0\n",
      "Kelvin value: 310.15\n"
     ]
    }
   ],
   "source": [
    "Fahrenheit = float(input(\"Enter Fahrenheit:\"))\n",
    "Celsius = (Fahrenheit - 32) * 5.0/9.0\n",
    "print(\"Celsius value\",Celsius)\n",
    "kelvin = Celsius + 273.15\n",
    "print(\"Kelvin value:\",kelvin)"
   ]
  },
  {
   "cell_type": "markdown",
   "metadata": {},
   "source": [
    "### 6. Problem Statement\n",
    "###### Write a program to demonstrate all the available datatypes in Python. Hint: Use type() function."
   ]
  },
  {
   "cell_type": "code",
   "execution_count": 19,
   "metadata": {},
   "outputs": [
    {
     "name": "stdout",
     "output_type": "stream",
     "text": [
      "24 is <class 'int'>\n",
      "45.2 is <class 'float'>\n",
      "13j is <class 'complex'>\n",
      "Hello World is <class 'str'>\n",
      "[1, 2, 2.9, 3.6, 4, 5, 6] is <class 'list'>\n",
      "(1, 2, 3.5, 4, 5) is <class 'tuple'>\n",
      "{1, 2.5, 2, 3, 1.9} is <class 'set'>\n",
      "{1: 'Lets', 2: 'Upgrade'} is <class 'dict'>\n"
     ]
    }
   ],
   "source": [
    "Integer = 24\n",
    "Float = 45.2\n",
    "Complex = 1_3j\n",
    "String = \"Hello World\"\n",
    "List = [1,2,2.9,3.6,4,5,6]\n",
    "Tuples =(1,2,3.5,4,5)\n",
    "Set = {1,1.9,2,3,2.5}\n",
    "Dictionary = {1:'Lets',2:'Upgrade'}\n",
    "print(Integer,'is',type(Integer))\n",
    "print(Float,'is',type(Float))\n",
    "print(Complex,'is',type(Complex))\n",
    "print(String,'is',type(String))\n",
    "print(List,'is',type(List))\n",
    "print(Tuples,'is',type(Tuples))\n",
    "print(Set,'is',type(Set))\n",
    "print(Dictionary,'is',type(Dictionary))"
   ]
  },
  {
   "cell_type": "code",
   "execution_count": null,
   "metadata": {},
   "outputs": [],
   "source": []
  }
 ],
 "metadata": {
  "kernelspec": {
   "display_name": "Python 3",
   "language": "python",
   "name": "python3"
  },
  "language_info": {
   "codemirror_mode": {
    "name": "ipython",
    "version": 3
   },
   "file_extension": ".py",
   "mimetype": "text/x-python",
   "name": "python",
   "nbconvert_exporter": "python",
   "pygments_lexer": "ipython3",
   "version": "3.7.4"
  }
 },
 "nbformat": 4,
 "nbformat_minor": 2
}
