{
 "cells": [
  {
   "cell_type": "markdown",
   "metadata": {},
   "source": [
    "### 1. Problem Statement \n",
    "###### Write a Python program to find the first 20 non-even prime natural numbers."
   ]
  },
  {
   "cell_type": "code",
   "execution_count": 4,
   "metadata": {},
   "outputs": [
    {
     "name": "stdout",
     "output_type": "stream",
     "text": [
      "The first 20 non-even prime natural numbers are: \n",
      "\n",
      "3 5 7 9 11 13 15 17 19 21 23 25 27 29 31 33 35 37 39 41 "
     ]
    }
   ],
   "source": [
    "num = 1\n",
    "print(\"The first 20 non-even prime natural numbers are: \\n\")\n",
    "for i in range (0,100):\n",
    "    if num!=21:\n",
    "        if i >1:\n",
    "            for j in range (2,i):\n",
    "                if i%j == 0:\n",
    "                    break\n",
    "                else:\n",
    "                    if i%2 == 0:\n",
    "                        break\n",
    "                    else:\n",
    "                        print(i,end=\" \")\n",
    "                        num += 1\n",
    "                        break"
   ]
  },
  {
   "cell_type": "markdown",
   "metadata": {},
   "source": [
    "### 2. Problem Statement \n",
    "###### Write a Python program to implement 15 functions of string."
   ]
  },
  {
   "cell_type": "code",
   "execution_count": 15,
   "metadata": {},
   "outputs": [
    {
     "name": "stdout",
     "output_type": "stream",
     "text": [
      "15 String functions applied on [ Python is a Programming Language ]\n",
      "\n",
      "1. len() :  32\n",
      "2. count() :  4\n",
      "3. upper() :  PYTHON IS A PROGRAMMING LANGUAGE\n",
      "4. lower() :  python is a programming language\n",
      "5. find() :  -1\n",
      "6. index() :  5\n",
      "7. capitalize():  Python is a programming language\n",
      "8. istitle() :  False\n",
      "9. islower() :  False\n",
      "10. isalpha() :  False\n",
      "11. isdecimal() :  False\n",
      "12. endswith() :  True\n",
      "13. replace() :  Python ps a Programmpng Language\n",
      "14. isnumeric() :  False\n",
      "15. isspace() :  False\n"
     ]
    }
   ],
   "source": [
    "str1 = 'Python is a Programming Language'\n",
    "\n",
    "print(\"15 String functions applied on [\",str1,\"]\\n\")\n",
    "print(\"1. len() : \",len(str1))\n",
    "print(\"2. count() : \",str1.count('a',0))\n",
    "print(\"3. upper() : \",str1.upper())\n",
    "print(\"4. lower() : \",str1.lower())\n",
    "print(\"5. find() : \",str1.find('w'))\n",
    "print(\"6. index() : \",str1.index('n',0))\n",
    "print(\"7. capitalize(): \",str1.capitalize())\n",
    "print(\"8. istitle() : \",str1.istitle())\n",
    "print(\"9. islower() : \",str1.islower())\n",
    "print(\"10. isalpha() : \",str1.isalpha())\n",
    "print(\"11. isdecimal() : \",str1.isdecimal())\n",
    "print(\"12. endswith() : \",str1.endswith('e',0))\n",
    "print(\"13. replace() : \",str1.replace('i', 'p'))\n",
    "print(\"14. isnumeric() : \",str1.isnumeric())\n",
    "print(\"15. isspace() : \",str1.isspace())\n",
    "\n"
   ]
  },
  {
   "cell_type": "markdown",
   "metadata": {},
   "source": [
    "### 3. Problem Statement \n",
    "###### Write a Python program to check if the given string is a Palindrome or Anagram or None of them. Display the message accordingly to the user.."
   ]
  },
  {
   "cell_type": "code",
   "execution_count": 8,
   "metadata": {},
   "outputs": [
    {
     "name": "stdout",
     "output_type": "stream",
     "text": [
      "Enter First string: listen\n",
      "Enter Second string: silent\n",
      "listen and silent are Anagram\n"
     ]
    }
   ],
   "source": [
    "str1 = input(\"Enter First string: \").lower()\n",
    "str2 = input(\"Enter Second string: \").lower()\n",
    "\n",
    "if str1 == str2[::-1]:\n",
    "    print(f\"{str1} and {str2} are palindrome\")\n",
    "\n",
    "elif sorted(str1) == sorted(str2):\n",
    "    print(f\"{str1} and {str2} are Anagram\")\n",
    "    \n",
    "else:\n",
    "    print(f\"{str1} and {str2} are neither palindrome nor anagram\")"
   ]
  },
  {
   "cell_type": "markdown",
   "metadata": {},
   "source": [
    "### 4. Problem Statement \n",
    "######  Write a Python's user defined function that removes all the additional characters from the string and converts it finally to lower case using built-in lower()"
   ]
  },
  {
   "cell_type": "code",
   "execution_count": 13,
   "metadata": {},
   "outputs": [
    {
     "name": "stdout",
     "output_type": "stream",
     "text": [
      "Enter the string to be converted:Hello World, @&**2020**&@ Welcome All !\n",
      "String after conversion:  helloworld2020welcomeall\n"
     ]
    }
   ],
   "source": [
    "str1 = input(\"Enter the string to be converted:\")\n",
    "str2 = \"\"\n",
    "for i in list(str1):\n",
    "    if i.isalnum():\n",
    "        str2 += i\n",
    "print(\"String after conversion: \",str2.lower())\n"
   ]
  }
 ],
 "metadata": {
  "kernelspec": {
   "display_name": "Python 3",
   "language": "python",
   "name": "python3"
  },
  "language_info": {
   "codemirror_mode": {
    "name": "ipython",
    "version": 3
   },
   "file_extension": ".py",
   "mimetype": "text/x-python",
   "name": "python",
   "nbconvert_exporter": "python",
   "pygments_lexer": "ipython3",
   "version": "3.7.4"
  }
 },
 "nbformat": 4,
 "nbformat_minor": 2
}
