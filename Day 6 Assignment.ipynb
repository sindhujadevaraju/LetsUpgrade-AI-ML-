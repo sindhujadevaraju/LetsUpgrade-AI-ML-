{
 "cells": [
  {
   "cell_type": "markdown",
   "metadata": {},
   "source": [
    "### 1. Problem Statement \n",
    "###### Assuming that we have some email addresses in the \"username@companyname.com\" format, please write program to print the company name of a given email address. Both user names and company names are composed of letters only. "
   ]
  },
  {
   "cell_type": "code",
   "execution_count": 5,
   "metadata": {},
   "outputs": [
    {
     "name": "stdout",
     "output_type": "stream",
     "text": [
      "Email Address: info@letsupgrade.in\n",
      "\n",
      "Company Name:  letsupgrade\n"
     ]
    }
   ],
   "source": [
    "email = input(\"Email Address: \")\n",
    "company_name = email.split(\"@\")[1].split(\".\")[0]\n",
    "print(\"\\nCompany Name: \",company_name)"
   ]
  },
  {
   "cell_type": "markdown",
   "metadata": {},
   "source": [
    "### 2. Problem Statement \n",
    "###### Write a program that accepts a comma-separated sequence of words as input and prints the words in a comma separated sequence after sorting them alphabetically. Input Format: The first line of input contains words separated by the comma. Output Format: Print the sorted words separated by the comma."
   ]
  },
  {
   "cell_type": "code",
   "execution_count": 18,
   "metadata": {},
   "outputs": [
    {
     "name": "stdout",
     "output_type": "stream",
     "text": [
      "Enter few words seperated with commas: without,hello,bag,world\n",
      "After Sorting the words Alphabetically: \n",
      " ['bag', 'hello', 'without', 'world']\n"
     ]
    }
   ],
   "source": [
    "str1 = input(\"Enter few words seperated with commas: \")\n",
    "\n",
    "str_sort = sorted(str1.split(\",\"))\n",
    "print(\"After Sorting the words Alphabetically: \\n\",str_sort)"
   ]
  },
  {
   "cell_type": "markdown",
   "metadata": {},
   "source": [
    "### 3. Problem Statement \n",
    "###### Create your own Jupyter Notebook for Sets."
   ]
  },
  {
   "cell_type": "markdown",
   "metadata": {},
   "source": [
    "### Sets"
   ]
  },
  {
   "cell_type": "markdown",
   "metadata": {},
   "source": [
    "In Python sets are written with curly brackets { }\n",
    "\n",
    "-> Mutable\n",
    "\n",
    "-> Holds Mixed Datatypes\n",
    "\n",
    "-> Unique elements allowed\n",
    "\n",
    "-> Doesn't preserve the order\n",
    "\n",
    "-> Indexing isn't supported\n",
    "\n",
    "-> List cannot be a part of sets"
   ]
  },
  {
   "cell_type": "code",
   "execution_count": 20,
   "metadata": {},
   "outputs": [
    {
     "name": "stdout",
     "output_type": "stream",
     "text": [
      "Set1: {'Manish', 1.0, 'Hello', (1, 2, 4)}\n",
      "Set2:  {1, 2, 3, 4, 5, 6, 7, 38, 72, 10, 16}\n"
     ]
    }
   ],
   "source": [
    "set1={1.0,1,\"Hello\",\"Manish\",(1,2,4)} \n",
    "print(\"Set1:\", set1) \n",
    "\n",
    "set2 = {1,2,3,5,7,6,4,3.0,2,10,38,72,16} \n",
    "print(\"Set2: \", set2)"
   ]
  },
  {
   "cell_type": "markdown",
   "metadata": {},
   "source": [
    "### Sets Functions"
   ]
  },
  {
   "cell_type": "markdown",
   "metadata": {},
   "source": [
    "-> len(), Returns the length of a set. This is the number of elements in it.\n",
    "\n",
    "-> max(), Returns the item from the set with the highest value.\n",
    "\n",
    "-> min(), Returns the item in the Python set with the lowest value.\n",
    "\n",
    "-> any(), Returns True even if one item in the set has a Boolean value of True.\n",
    "\n",
    "-> sorted(), Returns a sorted python set to list. It is sorted in ascending order, but it doesn’t modify the original set."
   ]
  },
  {
   "cell_type": "code",
   "execution_count": 21,
   "metadata": {},
   "outputs": [
    {
     "name": "stdout",
     "output_type": "stream",
     "text": [
      "Length of set1:\n",
      " 4 \n",
      "\n",
      "Highest item present in set2:\n",
      " 72 \n",
      "\n",
      "Lowest item present in set2:\n",
      " 1 \n",
      "\n",
      "If one item in set1 has a Boolean value:\n",
      " True \n",
      "\n",
      "Sorts set2 in ascending order:\n",
      " [1, 2, 3, 4, 5, 6, 7, 10, 16, 38, 72] \n",
      "\n"
     ]
    }
   ],
   "source": [
    "#len()\n",
    "print(\"Length of set1:\\n\", len(set1),\"\\n\")\n",
    "\n",
    "#max()\n",
    "print(\"Highest item present in set2:\\n\",max(set2),\"\\n\")\n",
    "\n",
    "#min()\n",
    "print(\"Lowest item present in set2:\\n\",min(set2),\"\\n\")\n",
    "\n",
    "#any()\n",
    "print(\"If one item in set1 has a Boolean value:\\n\",any(set1),\"\\n\")\n",
    "\n",
    "#sorted()\n",
    "print(\"Sorts set2 in ascending order:\\n\",sorted(set2),\"\\n\")"
   ]
  },
  {
   "cell_type": "markdown",
   "metadata": {},
   "source": [
    "### Sets Methods"
   ]
  },
  {
   "cell_type": "markdown",
   "metadata": {},
   "source": [
    "-> union(), performs the union operation on two or more Python sets.\n",
    "\n",
    "-> intersection(), takes as argument sets, and returns the common items in all the sets.\n",
    "\n",
    "-> difference(), returns the difference of two or more sets. It returns as a set.\n",
    "\n",
    "-> add(), Adds an element to the set\n",
    "\n",
    "-> clear(), Empties the Python set."
   ]
  },
  {
   "cell_type": "code",
   "execution_count": 24,
   "metadata": {},
   "outputs": [
    {
     "name": "stdout",
     "output_type": "stream",
     "text": [
      "Items present in setA:\n",
      " {1, 2, 3, 4, 5, 9} \n",
      "\n",
      "Items present in setB:\n",
      " {4, 5, 6, 7, 8, 10} \n",
      "\n",
      "Items present in setC:\n",
      " {2, 5, 6, 7} \n",
      "\n",
      "Union of setA and setB(setA | setB):\n",
      " {1, 2, 3, 4, 5, 6, 7, 8, 9, 10} \n",
      "\n",
      "Intersection(setA & setB):\n",
      " {4, 5} \n",
      "\n",
      "Difference(setB-setA):\n",
      " {8, 10, 6, 7} \n",
      "\n",
      "Added an element 'abc' to setC:\n",
      " {2, 5, 6, 7, 'abc'} \n",
      "\n",
      "Clears the elements present in set\n",
      " setC: set()\n"
     ]
    }
   ],
   "source": [
    "setA = {1,2,3,4,5,9}\n",
    "setB = {4,5,6,7,8,10}\n",
    "setC = {2,5,6,7}\n",
    "\n",
    "print(\"Items present in setA:\\n\",setA,\"\\n\")\n",
    "print(\"Items present in setB:\\n\",setB,\"\\n\")\n",
    "print(\"Items present in setC:\\n\",setC,\"\\n\")\n",
    "\n",
    "#uinion()\n",
    "print(\"Union of setA and setB(setA | setB):\\n\",setA.union(setB),\"\\n\")\n",
    "\n",
    "#intersection()\n",
    "print(\"Intersection(setA & setB):\\n\",setA.intersection(setB),\"\\n\")\n",
    "\n",
    "#difference()\n",
    "print(\"Difference(setB-setA):\\n\",setB.difference(setA),\"\\n\")\n",
    "\n",
    "#add()\n",
    "setC.add('abc')\n",
    "print(\"Added an element 'abc' to setC:\\n\",setC,\"\\n\")\n",
    "\n",
    "#clear()\n",
    "setC.clear()\n",
    "print(\"Clears the elements present in set\\n setC:\",setC)"
   ]
  },
  {
   "cell_type": "markdown",
   "metadata": {},
   "source": [
    "### 4. Problem Statement \n",
    "###### Given a list of n-1 numbers ranging from 1 to n, your task is to find the missing number. There are no duplicates."
   ]
  },
  {
   "cell_type": "code",
   "execution_count": 42,
   "metadata": {},
   "outputs": [
    {
     "name": "stdout",
     "output_type": "stream",
     "text": [
      "Enter integers ranging 1 to n: 10 13 16 20\n",
      "[11, 12, 14, 15, 17, 18, 19]\n"
     ]
    }
   ],
   "source": [
    "def find_missing(lst): \n",
    "    return [x for x in range(lst[0], lst[-1]+1) if x not in lst] \n",
    "lst = [int(x) for x in input(\"Enter integers ranging 1 to n: \").split()]\n",
    "print(find_missing(lst))"
   ]
  },
  {
   "cell_type": "markdown",
   "metadata": {},
   "source": [
    "### 5. Problem Statement \n",
    "###### With a given list L, write a program to print this list L after removing all duplicate values with original order reserved."
   ]
  },
  {
   "cell_type": "code",
   "execution_count": 6,
   "metadata": {},
   "outputs": [
    {
     "name": "stdout",
     "output_type": "stream",
     "text": [
      "Enter numbers seperated by comma: 12,12,13,17,23,12,78,34,13\n",
      "\n",
      "New list without duplicate values: \n",
      "12 13 17 23 78 34 "
     ]
    }
   ],
   "source": [
    "lst = [int(x) for x in input(\"Enter numbers seperated by comma: \").split(',')]\n",
    "new_lst = []\n",
    "\n",
    "print(\"\\nNew list without duplicate values: \")\n",
    "for i in lst:\n",
    "    if i not in new_lst:\n",
    "        new_lst.append(i)\n",
    "        print(i,end = ' ')"
   ]
  }
 ],
 "metadata": {
  "kernelspec": {
   "display_name": "Python 3",
   "language": "python",
   "name": "python3"
  },
  "language_info": {
   "codemirror_mode": {
    "name": "ipython",
    "version": 3
   },
   "file_extension": ".py",
   "mimetype": "text/x-python",
   "name": "python",
   "nbconvert_exporter": "python",
   "pygments_lexer": "ipython3",
   "version": "3.7.4"
  }
 },
 "nbformat": 4,
 "nbformat_minor": 2
}
